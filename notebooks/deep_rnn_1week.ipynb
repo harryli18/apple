{
 "cells": [
  {
   "cell_type": "code",
   "execution_count": 1,
   "metadata": {},
   "outputs": [],
   "source": [
    "# import plaidml.keras\n",
    "# plaidml.keras.install_backend()\n",
    "# import os\n",
    "# os.environ[\"KERAS_BACKEND\"] = \"plaidml.keras.backend\""
   ]
  },
  {
   "cell_type": "code",
   "execution_count": 2,
   "metadata": {},
   "outputs": [],
   "source": [
    "# Importing useful libraries\n",
    "import numpy as np\n",
    "import matplotlib.pyplot as plt\n",
    "import pandas as pd\n",
    "from sklearn.preprocessing import MinMaxScaler\n",
    "from keras.models import Sequential\n",
    "from keras.layers import Dense, LSTM, Dropout, GRU, Bidirectional, Conv1D, Flatten, MaxPooling1D\n",
    "from keras.optimizers import SGD\n",
    "import math\n",
    "from sklearn.metrics import mean_squared_error\n",
    "from sklearn.model_selection import train_test_split\n",
    "from keras import optimizers\n",
    "\n",
    "import time "
   ]
  },
  {
   "cell_type": "markdown",
   "metadata": {},
   "source": [
    "### Data Processing"
   ]
  },
  {
   "cell_type": "code",
   "execution_count": 3,
   "metadata": {
    "scrolled": true
   },
   "outputs": [],
   "source": [
    "df = pd.read_csv('../data/num_data.csv')"
   ]
  },
  {
   "cell_type": "code",
   "execution_count": 30,
   "metadata": {
    "scrolled": true
   },
   "outputs": [],
   "source": [
    "dataset = df"
   ]
  },
  {
   "cell_type": "code",
   "execution_count": 31,
   "metadata": {},
   "outputs": [
    {
     "data": {
      "text/plain": [
       "(1000, 16)"
      ]
     },
     "execution_count": 31,
     "metadata": {},
     "output_type": "execute_result"
    }
   ],
   "source": [
    "dataset.shape"
   ]
  },
  {
   "cell_type": "code",
   "execution_count": 32,
   "metadata": {
    "_uuid": "b288a8e2caf6196daec9cd2bc4ca78fe50345845",
    "scrolled": true
   },
   "outputs": [],
   "source": [
    "# Useful functions\n",
    "def plot_predictions(test, predicted):\n",
    "    plt.figure(figsize=(30, 15));\n",
    "\n",
    "    plt.plot(test, color='red', alpha=0.5, label='Actual PM2.5 Concentration',)\n",
    "    plt.plot(predicted, color='blue', alpha=0.5, label='Predicted PM2.5 Concentation')\n",
    "    plt.title('PM2.5 Concentration Prediction')\n",
    "    plt.xlabel('Time')\n",
    "    plt.ylabel('PM2.5  Concentration')\n",
    "    plt.legend()\n",
    "    plt.show()\n",
    "    \n",
    "\n",
    "def return_rmse(test,predicted):\n",
    "    rmse = math.sqrt(mean_squared_error(test, predicted))\n",
    "    return rmse"
   ]
  },
  {
   "cell_type": "code",
   "execution_count": 33,
   "metadata": {
    "scrolled": true
   },
   "outputs": [],
   "source": [
    "data_size = dataset.shape[0]\n",
    "train_size=int(data_size * 0.6)\n",
    "test_size = 100\n",
    "valid_size = data_size - train_size - test_size\n",
    "\n",
    "test_next_day = [12, 24, 48]"
   ]
  },
  {
   "cell_type": "code",
   "execution_count": 34,
   "metadata": {
    "_uuid": "fb4c9db6d8a5bcf20ffad41747cfa5b6215ba220",
    "scrolled": true
   },
   "outputs": [],
   "source": [
    "training_set = dataset[:train_size].iloc[:,4:16].values\n",
    "valid_set = dataset[train_size:train_size+valid_size].iloc[:,4:16].values\n",
    "test_set = dataset[data_size-test_size:].iloc[:,4:16].values"
   ]
  },
  {
   "cell_type": "code",
   "execution_count": 35,
   "metadata": {},
   "outputs": [
    {
     "data": {
      "text/plain": [
       "(1000, 1)"
      ]
     },
     "execution_count": 35,
     "metadata": {},
     "output_type": "execute_result"
    }
   ],
   "source": [
    "y = dataset.iloc[:,4].values\n",
    "y = y.reshape(-1,1)\n",
    "\n",
    "y.shape"
   ]
  },
  {
   "cell_type": "code",
   "execution_count": 36,
   "metadata": {
    "_uuid": "bcc9c36165fc07d258bd5ea87874d2da17fa4a4d",
    "scrolled": true
   },
   "outputs": [],
   "source": [
    "# Scaling the dataset\n",
    "sc = MinMaxScaler(feature_range=(0,1))\n",
    "training_set_scaled = sc.fit_transform(training_set)\n",
    "valid_set_scaled = sc.fit_transform(valid_set)\n",
    "test_set_scaled = sc.fit_transform(test_set)\n",
    "\n",
    "sc_y = MinMaxScaler(feature_range=(0,1))\n",
    "y_scaled = sc_y.fit_transform(y)"
   ]
  },
  {
   "cell_type": "code",
   "execution_count": 37,
   "metadata": {},
   "outputs": [],
   "source": [
    "# split a multivariate sequence into samples\n",
    "def split_sequences(sequences, n_steps_in, n_steps_out):\n",
    "    X_, y_ = list(), list()\n",
    "    for i in range(len(sequences)):\n",
    "        # find the end of this pattern\n",
    "        end_ix = i + n_steps_in\n",
    "        out_end_ix = end_ix + n_steps_out-1\n",
    "        # check if we are beyond the dataset\n",
    "        if out_end_ix > len(sequences):\n",
    "            break\n",
    "        # gather input and output parts of the pattern\n",
    "        seq_x, seq_y = sequences[i:end_ix, :], sequences[end_ix-1:out_end_ix, 0]\n",
    "        X_.append(seq_x)\n",
    "        y_.append(seq_y)\n",
    "    return np.array(X_), np.array(y_)"
   ]
  },
  {
   "cell_type": "code",
   "execution_count": 38,
   "metadata": {},
   "outputs": [],
   "source": [
    "n_steps_in = 24 * 7\n",
    "n_steps_out = 24 * 7\n",
    "X_train, y_train = split_sequences(training_set_scaled, n_steps_in, n_steps_out)\n",
    "X_valid, y_valid = split_sequences(valid_set_scaled, n_steps_in, n_steps_out)\n",
    "X_test, y_test = split_sequences(test_set_scaled, n_steps_in, n_steps_out)"
   ]
  },
  {
   "cell_type": "code",
   "execution_count": null,
   "metadata": {},
   "outputs": [],
   "source": []
  },
  {
   "cell_type": "code",
   "execution_count": 44,
   "metadata": {
    "scrolled": true
   },
   "outputs": [],
   "source": [
    "GRU_3 = Sequential()\n",
    "LSTM_3 = Sequential()\n",
    "GRU_4 =  Sequential()\n",
    "LSTM_4 = Sequential()\n",
    "\n",
    "\n",
    "GRU_3.add(GRU(units=50, return_sequences=True, input_shape=(X_train.shape[1],12), activation='tanh'))\n",
    "GRU_3.add(GRU(units=50, return_sequences=True, input_shape=(X_train.shape[1],12), activation='tanh'))\n",
    "GRU_3.add(GRU(units=50, activation='tanh'))\n",
    "GRU_3.add(Dense(units=n_steps_out))\n",
    "\n",
    "GRU_4.add(GRU(units=50, return_sequences=True, input_shape=(X_train.shape[1],12), activation='tanh'))\n",
    "GRU_4.add(GRU(units=50, return_sequences=True, input_shape=(X_train.shape[1],12), activation='tanh'))\n",
    "GRU_4.add(GRU(units=50, return_sequences=True, input_shape=(X_train.shape[1],12), activation='tanh'))\n",
    "GRU_4.add(GRU(units=50, activation='tanh'))\n",
    "GRU_4.add(Dense(units=n_steps_out))\n",
    "\n",
    "LSTM_3.add(LSTM(units=50, return_sequences=True, input_shape=(X_train.shape[1],12), activation='tanh'))\n",
    "LSTM_3.add(LSTM(units=50, return_sequences=True, input_shape=(X_train.shape[1],12), activation='tanh'))\n",
    "LSTM_3.add(LSTM(units=50, activation='tanh'))\n",
    "LSTM_3.add(Dense(units=n_steps_out))\n",
    "\n",
    "LSTM_4.add(LSTM(units=50, return_sequences=True, input_shape=(X_train.shape[1],12), activation='tanh'))\n",
    "LSTM_4.add(LSTM(units=50, return_sequences=True, input_shape=(X_train.shape[1],12), activation='tanh'))\n",
    "LSTM_4.add(LSTM(units=50, return_sequences=True, input_shape=(X_train.shape[1],12), activation='tanh'))\n",
    "LSTM_4.add(LSTM(units=50, activation='tanh'))\n",
    "LSTM_4.add(Dense(units=n_steps_out))\n",
    "\n",
    "\n",
    "\n",
    "# Compiling the RNNs\n",
    "adam = optimizers.Adam(lr=0.01)\n",
    "\n",
    "GRU_3.compile(optimizer=adam,loss='mean_squared_error')\n",
    "GRU_4.compile(optimizer=adam,loss='mean_squared_error')\n",
    "LSTM_3.compile(optimizer=adam,loss='mean_squared_error')\n",
    "LSTM_4.compile(optimizer=adam,loss='mean_squared_error')\n"
   ]
  },
  {
   "cell_type": "code",
   "execution_count": 50,
   "metadata": {},
   "outputs": [],
   "source": [
    "LSTM_GRU_LSTM = Sequential()\n",
    "GRU_LSTM_GRU = Sequential()\n",
    "LSTM_LSTM_GRU_GRU =  Sequential()\n",
    "GRU_GRU_LSTM_LSTM = Sequential()\n",
    "LSTM_GRU_LSTM_GRU = Sequential()\n",
    "GRU_LSTM_GRU_LSTM = Sequential()\n",
    "\n",
    "\n",
    "LSTM_GRU_LSTM.add(LSTM(units=50, return_sequences=True, input_shape=(X_train.shape[1],12), activation='tanh'))\n",
    "LSTM_GRU_LSTM.add(GRU(units=50, return_sequences=True, input_shape=(X_train.shape[1],12), activation='tanh'))\n",
    "LSTM_GRU_LSTM.add(LSTM(units=50, activation='tanh'))\n",
    "LSTM_GRU_LSTM.add(Dense(units=n_steps_out))\n",
    "\n",
    "GRU_LSTM_GRU.add(GRU(units=50, return_sequences=True, input_shape=(X_train.shape[1],12), activation='tanh'))\n",
    "GRU_LSTM_GRU.add(LSTM(units=50, return_sequences=True, input_shape=(X_train.shape[1],12), activation='tanh'))\n",
    "GRU_LSTM_GRU.add(GRU(units=50, activation='tanh'))\n",
    "GRU_LSTM_GRU.add(Dense(units=n_steps_out))\n",
    "\n",
    "LSTM_LSTM_GRU_GRU.add(LSTM(units=50, return_sequences=True, input_shape=(X_train.shape[1],12), activation='tanh'))\n",
    "LSTM_LSTM_GRU_GRU.add(LSTM(units=50, return_sequences=True, input_shape=(X_train.shape[1],12), activation='tanh'))\n",
    "LSTM_LSTM_GRU_GRU.add(GRU(units=50, return_sequences=True, input_shape=(X_train.shape[1],12), activation='tanh'))\n",
    "LSTM_LSTM_GRU_GRU.add(GRU(units=50, activation='tanh'))\n",
    "LSTM_LSTM_GRU_GRU.add(Dense(units=n_steps_out))\n",
    "\n",
    "GRU_GRU_LSTM_LSTM.add(GRU(units=50, return_sequences=True, input_shape=(X_train.shape[1],12), activation='tanh'))\n",
    "GRU_GRU_LSTM_LSTM.add(GRU(units=50, return_sequences=True, input_shape=(X_train.shape[1],12), activation='tanh'))\n",
    "GRU_GRU_LSTM_LSTM.add(LSTM(units=50, return_sequences=True, input_shape=(X_train.shape[1],12), activation='tanh'))\n",
    "GRU_GRU_LSTM_LSTM.add(LSTM(units=50, activation='tanh'))\n",
    "GRU_GRU_LSTM_LSTM.add(Dense(units=n_steps_out))\n",
    "\n",
    "LSTM_GRU_LSTM_GRU.add(LSTM(units=50, return_sequences=True, input_shape=(X_train.shape[1],12), activation='tanh'))\n",
    "LSTM_GRU_LSTM_GRU.add(GRU(units=50, return_sequences=True, input_shape=(X_train.shape[1],12), activation='tanh'))\n",
    "LSTM_GRU_LSTM_GRU.add(LSTM(units=50, return_sequences=True, input_shape=(X_train.shape[1],12), activation='tanh'))\n",
    "LSTM_GRU_LSTM_GRU.add(GRU(units=50, activation='tanh'))\n",
    "LSTM_GRU_LSTM_GRU.add(Dense(units=n_steps_out))\n",
    "\n",
    "GRU_LSTM_GRU_LSTM.add(GRU(units=50, return_sequences=True, input_shape=(X_train.shape[1],12), activation='tanh'))\n",
    "GRU_LSTM_GRU_LSTM.add(LSTM(units=50, return_sequences=True, input_shape=(X_train.shape[1],12), activation='tanh'))\n",
    "GRU_LSTM_GRU_LSTM.add(GRU(units=50, return_sequences=True, input_shape=(X_train.shape[1],12), activation='tanh'))\n",
    "GRU_LSTM_GRU_LSTM.add(LSTM(units=50, activation='tanh'))\n",
    "GRU_LSTM_GRU_LSTM.add(Dense(units=n_steps_out))\n",
    "\n",
    "\n",
    "# Compiling the RNNs\n",
    "adam = optimizers.Adam(lr=0.01)\n",
    "\n",
    "LSTM_GRU_LSTM.compile(optimizer=adam,loss='mean_squared_error')\n",
    "GRU_LSTM_GRU.compile(optimizer=adam,loss='mean_squared_error')\n",
    "\n",
    "LSTM_LSTM_GRU_GRU.compile(optimizer=adam,loss='mean_squared_error')\n",
    "GRU_GRU_LSTM_LSTM.compile(optimizer=adam,loss='mean_squared_error')\n",
    "LSTM_GRU_LSTM_GRU.compile(optimizer=adam,loss='mean_squared_error')\n",
    "GRU_LSTM_GRU_LSTM.compile(optimizer=adam,loss='mean_squared_error')"
   ]
  },
  {
   "cell_type": "code",
   "execution_count": 53,
   "metadata": {},
   "outputs": [],
   "source": [
    "RnnModelDict = {'LSTM_3': LSTM_3, 'GRU_3': GRU_3, 'LSTM_4': LSTM_4, 'GRU_4': GRU_4, \n",
    "                'LSTM_GRU_LSTM': LSTM_GRU_LSTM, 'GRU_LSTM_GRU': GRU_LSTM_GRU, \n",
    "                'LSTM_LSTM_GRU_GRU': LSTM_LSTM_GRU_GRU, 'GRU_GRU_LSTM_LSTM': GRU_GRU_LSTM_LSTM}\n",
    "\n",
    "X_test_24 = X_test[:24]\n",
    "y_test_24 = y_test[:24]\n",
    "rmse_df = pd.DataFrame()\n"
   ]
  },
  {
   "cell_type": "code",
   "execution_count": 54,
   "metadata": {},
   "outputs": [
    {
     "name": "stdout",
     "output_type": "stream",
     "text": [
      "training start for LSTM_3\n",
      "Epoch 1/2\n"
     ]
    },
    {
     "name": "stderr",
     "output_type": "stream",
     "text": [
      "INFO:plaidml:Analyzing Ops: 3772 of 7313 operations complete\n"
     ]
    },
    {
     "name": "stdout",
     "output_type": "stream",
     "text": [
      "544/554 [============================>.] - ETA: 0s - loss: 0.0466"
     ]
    },
    {
     "name": "stderr",
     "output_type": "stream",
     "text": [
      "INFO:plaidml:Analyzing Ops: 4503 of 7314 operations complete\n"
     ]
    },
    {
     "name": "stdout",
     "output_type": "stream",
     "text": [
      "554/554 [==============================] - 17s 30ms/step - loss: 0.0462\n",
      "Epoch 2/2\n",
      "554/554 [==============================] - 1s 3ms/step - loss: 0.0264\n",
      "results for training set\n",
      "results for valid set\n"
     ]
    }
   ],
   "source": [
    "for model in RnnModelDict:\n",
    "    regressor = RnnModelDict[model]\n",
    "    \n",
    "    print('training start for', model)    \n",
    "    start = time.process_time()\n",
    "    regressor.fit(X_train,y_train,epochs=50,batch_size=32)\n",
    "    train_time = round(time.process_time() - start, 2)\n",
    "    \n",
    "    print('results for training set')\n",
    "    y_train_pred = regressor.predict(X_train)\n",
    "#     plot_predictions(y_train,y_train_pred)\n",
    "    train_rmse = return_rmse(y_train,y_train_pred)\n",
    "    \n",
    "    print('results for valid set')\n",
    "    y_valid_pred = regressor.predict(X_valid)\n",
    "#     plot_predictions(y_valid,y_valid_pred)\n",
    "    valid_rmse = return_rmse(y_valid,y_valid_pred)\n",
    "    \n",
    "    \n",
    "#     print('results for test set - 24 hours')\n",
    "#     y_test_pred24 = regressor.predict(X_test_24)\n",
    "#     plot_predictions(y_test_24,y_test_pred24)\n",
    "#     test24_rmse = return_rmse(y_test_24,y_test_pred24)\n",
    "    \n",
    "    \n",
    "    one_df = pd.DataFrame([[model, train_rmse, valid_rmse, train_time]], \n",
    "                          columns=['Model', 'train_rmse', 'valid_rmse', 'train_time'])\n",
    "    rmse_df = pd.concat([rmse_df, one_df])\n",
    "\n",
    "# save the rmse results \n",
    "rmse_df.to_csv('../deep_rnn_1week.csv')\n"
   ]
  },
  {
   "cell_type": "code",
   "execution_count": null,
   "metadata": {},
   "outputs": [],
   "source": []
  },
  {
   "cell_type": "code",
   "execution_count": null,
   "metadata": {},
   "outputs": [],
   "source": []
  },
  {
   "cell_type": "code",
   "execution_count": null,
   "metadata": {},
   "outputs": [],
   "source": []
  }
 ],
 "metadata": {
  "kernelspec": {
   "display_name": "popeye",
   "language": "python",
   "name": "popeye"
  },
  "language_info": {
   "codemirror_mode": {
    "name": "ipython",
    "version": 3
   },
   "file_extension": ".py",
   "mimetype": "text/x-python",
   "name": "python",
   "nbconvert_exporter": "python",
   "pygments_lexer": "ipython3",
   "version": "3.6.8"
  }
 },
 "nbformat": 4,
 "nbformat_minor": 1
}
