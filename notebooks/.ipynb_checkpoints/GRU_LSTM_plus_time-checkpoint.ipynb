{
 "cells": [
  {
   "cell_type": "code",
   "execution_count": 1,
   "metadata": {
    "scrolled": true
   },
   "outputs": [],
   "source": [
    "import plaidml.keras\n",
    "plaidml.keras.install_backend()\n",
    "import os\n",
    "os.environ[\"KERAS_BACKEND\"] = \"plaidml.keras.backend\""
   ]
  },
  {
   "cell_type": "code",
   "execution_count": 2,
   "metadata": {
    "scrolled": true
   },
   "outputs": [],
   "source": [
    "# Importing useful libraries\n",
    "import numpy as np\n",
    "import matplotlib.pyplot as plt\n",
    "import pandas as pd\n",
    "from sklearn.preprocessing import MinMaxScaler\n",
    "from keras.models import Sequential\n",
    "from keras.layers import Dense, LSTM, Dropout, GRU, Bidirectional, Conv1D, Flatten, MaxPooling1D\n",
    "from keras.optimizers import SGD\n",
    "import math\n",
    "from sklearn.metrics import mean_squared_error\n",
    "from sklearn.model_selection import train_test_split\n",
    "from keras import optimizers\n",
    "\n",
    "import time "
   ]
  },
  {
   "cell_type": "markdown",
   "metadata": {},
   "source": [
    "### Data Processing"
   ]
  },
  {
   "cell_type": "code",
   "execution_count": 3,
   "metadata": {
    "scrolled": false
   },
   "outputs": [],
   "source": [
    "df = pd.read_csv('../data/num_data.csv')"
   ]
  },
  {
   "cell_type": "code",
   "execution_count": 4,
   "metadata": {
    "scrolled": false
   },
   "outputs": [],
   "source": [
    "dataset = df"
   ]
  },
  {
   "cell_type": "code",
   "execution_count": 5,
   "metadata": {
    "scrolled": true
   },
   "outputs": [
    {
     "data": {
      "text/plain": [
       "(420768, 16)"
      ]
     },
     "execution_count": 5,
     "metadata": {},
     "output_type": "execute_result"
    }
   ],
   "source": [
    "dataset.shape"
   ]
  },
  {
   "cell_type": "code",
   "execution_count": 6,
   "metadata": {
    "_uuid": "b288a8e2caf6196daec9cd2bc4ca78fe50345845",
    "scrolled": false
   },
   "outputs": [],
   "source": [
    "# Useful functions\n",
    "def plot_predictions(test, predicted):\n",
    "    plt.figure(figsize=(30, 15));\n",
    "\n",
    "    plt.plot(test, color='red', alpha=0.5, label='Actual PM2.5 Concentration',)\n",
    "    plt.plot(predicted, color='blue', alpha=0.5, label='Predicted PM2.5 Concentation')\n",
    "    plt.title('PM2.5 Concentration Prediction')\n",
    "    plt.xlabel('Time')\n",
    "    plt.ylabel('PM2.5  Concentration')\n",
    "    plt.legend()\n",
    "    plt.show()\n",
    "    \n",
    "\n",
    "def return_rmse(test,predicted):\n",
    "    rmse = math.sqrt(mean_squared_error(test, predicted))\n",
    "    return rmse"
   ]
  },
  {
   "cell_type": "code",
   "execution_count": null,
   "metadata": {
    "scrolled": true
   },
   "outputs": [],
   "source": []
  },
  {
   "cell_type": "code",
   "execution_count": 7,
   "metadata": {
    "scrolled": false
   },
   "outputs": [],
   "source": [
    "data_size = dataset.shape[0]\n",
    "train_size=int(data_size * 0.6)\n",
    "test_size = 100\n",
    "valid_size = data_size - train_size - test_size\n",
    "\n",
    "test_next_day = [12, 24, 48]"
   ]
  },
  {
   "cell_type": "code",
   "execution_count": 8,
   "metadata": {
    "_uuid": "fb4c9db6d8a5bcf20ffad41747cfa5b6215ba220",
    "scrolled": false
   },
   "outputs": [],
   "source": [
    "training_set = dataset[:train_size].values\n",
    "valid_set = dataset[train_size:train_size+valid_size].values\n",
    "test_set = dataset[data_size-test_size:].values"
   ]
  },
  {
   "cell_type": "code",
   "execution_count": 9,
   "metadata": {
    "scrolled": true
   },
   "outputs": [
    {
     "data": {
      "text/plain": [
       "(420768, 1)"
      ]
     },
     "execution_count": 9,
     "metadata": {},
     "output_type": "execute_result"
    }
   ],
   "source": [
    "y = dataset.iloc[:,4].values\n",
    "y = y.reshape(-1,1)\n",
    "n_feature = training_set.shape[1]\n",
    "y.shape"
   ]
  },
  {
   "cell_type": "code",
   "execution_count": null,
   "metadata": {
    "scrolled": true
   },
   "outputs": [],
   "source": []
  },
  {
   "cell_type": "code",
   "execution_count": 10,
   "metadata": {
    "_uuid": "bcc9c36165fc07d258bd5ea87874d2da17fa4a4d",
    "scrolled": false
   },
   "outputs": [],
   "source": [
    "# Scaling the dataset\n",
    "sc = MinMaxScaler(feature_range=(0,1))\n",
    "training_set_scaled = sc.fit_transform(training_set)\n",
    "valid_set_scaled = sc.fit_transform(valid_set)\n",
    "test_set_scaled = sc.fit_transform(test_set)\n",
    "\n",
    "sc_y = MinMaxScaler(feature_range=(0,1))\n",
    "y_scaled = sc_y.fit_transform(y)"
   ]
  },
  {
   "cell_type": "code",
   "execution_count": 11,
   "metadata": {
    "scrolled": true
   },
   "outputs": [],
   "source": [
    "# split a multivariate sequence into samples\n",
    "def split_sequences(sequences, n_steps_in, n_steps_out):\n",
    "    X_, y_ = list(), list()\n",
    "    for i in range(len(sequences)):\n",
    "        # find the end of this pattern\n",
    "        end_ix = i + n_steps_in\n",
    "        out_end_ix = end_ix + n_steps_out-1\n",
    "        # check if we are beyond the dataset\n",
    "        if out_end_ix > len(sequences):\n",
    "            break\n",
    "        # gather input and output parts of the pattern\n",
    "        seq_x, seq_y = sequences[i:end_ix, :], sequences[end_ix-1:out_end_ix, 0]\n",
    "        X_.append(seq_x)\n",
    "        y_.append(seq_y)\n",
    "    return np.array(X_), np.array(y_)"
   ]
  },
  {
   "cell_type": "code",
   "execution_count": 12,
   "metadata": {
    "scrolled": true
   },
   "outputs": [],
   "source": [
    "n_steps_in = 24\n",
    "n_steps_out = 24\n",
    "X_train, y_train = split_sequences(training_set_scaled, n_steps_in, n_steps_out)\n",
    "X_valid, y_valid = split_sequences(valid_set_scaled, n_steps_in, n_steps_out)\n",
    "X_test, y_test = split_sequences(test_set_scaled, n_steps_in, n_steps_out)"
   ]
  },
  {
   "cell_type": "code",
   "execution_count": null,
   "metadata": {
    "scrolled": true
   },
   "outputs": [],
   "source": []
  },
  {
   "cell_type": "code",
   "execution_count": 13,
   "metadata": {
    "scrolled": false
   },
   "outputs": [
    {
     "name": "stderr",
     "output_type": "stream",
     "text": [
      "INFO:plaidml:Opening device \"llvm_cpu.0\"\n"
     ]
    }
   ],
   "source": [
    "GRU_LSTM_reg = Sequential()\n",
    "\n",
    "\n",
    "GRU_LSTM_reg.add(GRU(units=50, return_sequences=True, input_shape=(X_train.shape[1],n_feature), activation='tanh'))\n",
    "GRU_LSTM_reg.add(LSTM(units=50, activation='tanh'))\n",
    "GRU_LSTM_reg.add(Dense(units=n_steps_out))\n",
    "\n",
    "\n",
    "# Compiling the RNNs\n",
    "adam = optimizers.Adam(lr=0.01)\n",
    "GRU_LSTM_reg.compile(optimizer=adam,loss='mean_squared_error')"
   ]
  },
  {
   "cell_type": "code",
   "execution_count": 14,
   "metadata": {
    "scrolled": true
   },
   "outputs": [],
   "source": [
    "RnnModelDict = {'GRU_LSTM': GRU_LSTM_reg}\n",
    "\n",
    "X_test_24 = X_test[:24]\n",
    "y_test_24 = y_test[:24]\n",
    "rmse_df = pd.DataFrame(columns=['Model', 'train_rmse', 'valid_rmse', 'train_time'])\n",
    "\n",
    "# RnnModelDict = {'LSTM_GRU': LSTM_GRU_reg}"
   ]
  },
  {
   "cell_type": "code",
   "execution_count": 15,
   "metadata": {
    "scrolled": true
   },
   "outputs": [
    {
     "name": "stdout",
     "output_type": "stream",
     "text": [
      "training start for GRU_LSTM\n",
      "Epoch 1/50\n",
      "252414/252414 [==============================] - 340s 1ms/step - loss: 0.0049\n",
      "Epoch 2/50\n",
      "252414/252414 [==============================] - 222s 881us/step - loss: 4.5311e-04\n",
      "Epoch 3/50\n",
      "252414/252414 [==============================] - 227s 900us/step - loss: 4.1153e-04\n",
      "Epoch 4/50\n",
      "252414/252414 [==============================] - 226s 896us/step - loss: 4.7711e-04\n",
      "Epoch 5/50\n",
      "252414/252414 [==============================] - 224s 886us/step - loss: 4.2310e-04\n",
      "Epoch 6/50\n",
      "252414/252414 [==============================] - 224s 887us/step - loss: 4.1005e-04\n",
      "Epoch 7/50\n",
      "252414/252414 [==============================] - 224s 887us/step - loss: 4.6626e-04\n",
      "Epoch 8/50\n",
      "252414/252414 [==============================] - 224s 889us/step - loss: 3.9825e-04\n",
      "Epoch 9/50\n",
      "252414/252414 [==============================] - 225s 893us/step - loss: 4.0480e-04\n",
      "Epoch 10/50\n",
      "252414/252414 [==============================] - 224s 888us/step - loss: 4.2106e-04\n",
      "Epoch 11/50\n",
      "252414/252414 [==============================] - 224s 889us/step - loss: 3.6942e-04\n",
      "Epoch 12/50\n",
      "252414/252414 [==============================] - 227s 898us/step - loss: 4.2503e-04\n",
      "Epoch 13/50\n",
      "252414/252414 [==============================] - 227s 898us/step - loss: 3.5314e-04\n",
      "Epoch 14/50\n",
      "252414/252414 [==============================] - 224s 889us/step - loss: 3.5024e-04\n",
      "Epoch 15/50\n",
      "252414/252414 [==============================] - 227s 898us/step - loss: 3.1059e-04\n",
      "Epoch 16/50\n",
      "252414/252414 [==============================] - 224s 889us/step - loss: 2.9625e-04\n",
      "Epoch 17/50\n",
      "252414/252414 [==============================] - 226s 894us/step - loss: 4.2030e-04\n",
      "Epoch 18/50\n",
      "252414/252414 [==============================] - 224s 888us/step - loss: 2.2571e-04\n",
      "Epoch 19/50\n",
      "252414/252414 [==============================] - 226s 896us/step - loss: 4.7982e-04\n",
      "Epoch 20/50\n",
      "252414/252414 [==============================] - 225s 890us/step - loss: 3.0188e-04\n",
      "Epoch 21/50\n",
      "252414/252414 [==============================] - 225s 891us/step - loss: 2.2747e-04\n",
      "Epoch 22/50\n",
      "252414/252414 [==============================] - 225s 892us/step - loss: 2.2229e-04\n",
      "Epoch 23/50\n",
      "252414/252414 [==============================] - 224s 888us/step - loss: 3.2069e-04\n",
      "Epoch 24/50\n",
      "252414/252414 [==============================] - 222s 881us/step - loss: 1.7651e-04\n",
      "Epoch 25/50\n",
      "252414/252414 [==============================] - 222s 878us/step - loss: 1.0383e-04\n",
      "Epoch 26/50\n",
      "252414/252414 [==============================] - 222s 879us/step - loss: 1.2132e-04\n",
      "Epoch 27/50\n",
      "252414/252414 [==============================] - 223s 883us/step - loss: 4.5450e-05\n",
      "Epoch 28/50\n",
      "252414/252414 [==============================] - 224s 886us/step - loss: 7.3633e-05\n",
      "Epoch 29/50\n",
      "252414/252414 [==============================] - 223s 885us/step - loss: 5.0083e-05\n",
      "Epoch 30/50\n",
      "252414/252414 [==============================] - 221s 875us/step - loss: 6.2490e-05\n",
      "Epoch 31/50\n",
      "252414/252414 [==============================] - 221s 876us/step - loss: 5.4876e-05\n",
      "Epoch 32/50\n",
      "252414/252414 [==============================] - 221s 876us/step - loss: 4.6268e-04\n",
      "Epoch 33/50\n",
      "252414/252414 [==============================] - 221s 876us/step - loss: 2.0597e-04\n",
      "Epoch 34/50\n",
      "252414/252414 [==============================] - 221s 874us/step - loss: 1.0466e-04\n",
      "Epoch 35/50\n",
      "252414/252414 [==============================] - 220s 873us/step - loss: 1.2401e-04\n",
      "Epoch 36/50\n",
      "252414/252414 [==============================] - 219s 869us/step - loss: 3.8360e-04\n",
      "Epoch 37/50\n",
      "252414/252414 [==============================] - 220s 871us/step - loss: 3.0504e-04\n",
      "Epoch 38/50\n",
      "252414/252414 [==============================] - 220s 872us/step - loss: 2.9447e-04\n",
      "Epoch 39/50\n",
      "252414/252414 [==============================] - 221s 875us/step - loss: 3.1466e-04\n",
      "Epoch 40/50\n",
      "252414/252414 [==============================] - 220s 871us/step - loss: 2.8724e-04\n",
      "Epoch 41/50\n",
      "252414/252414 [==============================] - 220s 870us/step - loss: 2.5952e-04\n",
      "Epoch 42/50\n",
      "252414/252414 [==============================] - 220s 871us/step - loss: 3.2151e-04\n",
      "Epoch 43/50\n",
      "252414/252414 [==============================] - 220s 871us/step - loss: 1.4522e-04\n",
      "Epoch 44/50\n",
      "252414/252414 [==============================] - 221s 877us/step - loss: 5.9215e-05\n",
      "Epoch 45/50\n",
      "252414/252414 [==============================] - 220s 871us/step - loss: 4.0111e-05\n",
      "Epoch 46/50\n",
      "252414/252414 [==============================] - 219s 867us/step - loss: 1.4230e-04\n",
      "Epoch 47/50\n",
      "252414/252414 [==============================] - 220s 872us/step - loss: 4.8556e-05\n",
      "Epoch 48/50\n",
      "252414/252414 [==============================] - 217s 861us/step - loss: 5.4772e-04\n",
      "Epoch 49/50\n",
      "252414/252414 [==============================] - 218s 863us/step - loss: 2.4836e-04\n",
      "Epoch 50/50\n",
      "252414/252414 [==============================] - 219s 867us/step - loss: 1.9805e-04\n",
      "results for training set\n",
      "results for valid set\n"
     ]
    }
   ],
   "source": [
    "for model in RnnModelDict:\n",
    "    regressor = RnnModelDict[model]\n",
    "    \n",
    "    print('training start for', model)    \n",
    "    start = time.process_time()\n",
    "    regressor.fit(X_train,y_train,epochs=50,batch_size=1024)\n",
    "    train_time = round(time.process_time() - start, 2)\n",
    "    \n",
    "    print('results for training set')\n",
    "    y_train_pred = regressor.predict(X_train)\n",
    "#     plot_predictions(y_train,y_train_pred)\n",
    "    train_rmse = return_rmse(y_train,y_train_pred)\n",
    "    \n",
    "    print('results for valid set')\n",
    "    y_valid_pred = regressor.predict(X_valid)\n",
    "#     plot_predictions(y_valid,y_valid_pred)\n",
    "    valid_rmse = return_rmse(y_valid,y_valid_pred)\n",
    "    \n",
    "    \n",
    "#     print('results for test set - 24 hours')\n",
    "#     y_test_pred24 = regressor.predict(X_test_24)\n",
    "#     plot_predictions(y_test_24,y_test_pred24)\n",
    "#     test24_rmse = return_rmse(y_test_24,y_test_pred24)\n",
    "    \n",
    "    \n",
    "    one_df = pd.DataFrame([[model, train_rmse, valid_rmse, train_time]], \n",
    "                          columns=['Model', 'train_rmse', 'valid_rmse', 'train_time'])\n",
    "    rmse_df = pd.concat([rmse_df, one_df])\n",
    "\n",
    "# save the rmse results \n",
    "# rmse_df.to_csv('../rmse_24h_plus_time.csv')\n"
   ]
  },
  {
   "cell_type": "code",
   "execution_count": 23,
   "metadata": {},
   "outputs": [
    {
     "data": {
      "text/plain": [
       "<keras.engine.sequential.Sequential at 0x1421237f0>"
      ]
     },
     "execution_count": 23,
     "metadata": {},
     "output_type": "execute_result"
    }
   ],
   "source": [
    "regressor"
   ]
  },
  {
   "cell_type": "code",
   "execution_count": 16,
   "metadata": {
    "scrolled": false
   },
   "outputs": [
    {
     "name": "stdout",
     "output_type": "stream",
     "text": [
      "Train on 252414 samples, validate on 168162 samples\n",
      "Epoch 1/50\n",
      " - 253s - loss: 0.1066 - val_loss: 0.0843\n",
      "Epoch 2/50\n",
      " - 228s - loss: 0.1088 - val_loss: 0.0832\n",
      "Epoch 3/50\n",
      " - 230s - loss: 0.1045 - val_loss: 0.0829\n",
      "Epoch 4/50\n",
      " - 231s - loss: 0.1027 - val_loss: 0.0828\n",
      "Epoch 5/50\n",
      " - 231s - loss: 0.1016 - val_loss: 0.0827\n",
      "Epoch 6/50\n",
      " - 231s - loss: 0.1010 - val_loss: 0.0827\n",
      "Epoch 7/50\n",
      " - 231s - loss: 0.1006 - val_loss: 0.0827\n",
      "Epoch 8/50\n",
      " - 232s - loss: 0.1003 - val_loss: 0.0827\n",
      "Epoch 9/50\n",
      " - 232s - loss: 0.1001 - val_loss: 0.0827\n",
      "Epoch 10/50\n",
      " - 233s - loss: 0.0999 - val_loss: 0.0826\n",
      "Epoch 11/50\n",
      " - 232s - loss: 0.0998 - val_loss: 0.0826\n",
      "Epoch 12/50\n",
      " - 232s - loss: 0.0997 - val_loss: 0.0826\n",
      "Epoch 13/50\n",
      " - 232s - loss: 0.0996 - val_loss: 0.0826\n",
      "Epoch 14/50\n",
      " - 232s - loss: 0.0996 - val_loss: 0.0826\n",
      "Epoch 15/50\n",
      " - 231s - loss: 0.0995 - val_loss: 0.0826\n",
      "Epoch 16/50\n",
      " - 232s - loss: 0.0995 - val_loss: 0.0826\n",
      "Epoch 17/50\n",
      " - 232s - loss: 0.0995 - val_loss: 0.0826\n",
      "Epoch 18/50\n",
      " - 232s - loss: 0.0995 - val_loss: 0.0826\n",
      "Epoch 19/50\n",
      " - 232s - loss: 0.0995 - val_loss: 0.0826\n",
      "Epoch 20/50\n",
      " - 232s - loss: 0.0994 - val_loss: 0.0826\n",
      "Epoch 21/50\n",
      " - 233s - loss: 0.0994 - val_loss: 0.0826\n",
      "Epoch 22/50\n",
      " - 233s - loss: 0.0994 - val_loss: 0.0826\n",
      "Epoch 23/50\n",
      " - 233s - loss: 0.0994 - val_loss: 0.0826\n",
      "Epoch 24/50\n",
      " - 234s - loss: 0.0994 - val_loss: 0.0826\n",
      "Epoch 25/50\n",
      " - 234s - loss: 0.0994 - val_loss: 0.0826\n",
      "Epoch 26/50\n",
      " - 234s - loss: 0.0994 - val_loss: 0.0826\n",
      "Epoch 27/50\n",
      " - 234s - loss: 0.0994 - val_loss: 0.0826\n",
      "Epoch 28/50\n",
      " - 234s - loss: 0.0994 - val_loss: 0.0826\n",
      "Epoch 29/50\n",
      " - 234s - loss: 0.0994 - val_loss: 0.0826\n",
      "Epoch 30/50\n",
      " - 234s - loss: 0.0994 - val_loss: 0.0826\n",
      "Epoch 31/50\n",
      " - 234s - loss: 0.0994 - val_loss: 0.0826\n",
      "Epoch 32/50\n",
      " - 234s - loss: 0.0994 - val_loss: 0.0826\n",
      "Epoch 33/50\n",
      " - 234s - loss: 0.0994 - val_loss: 0.0826\n",
      "Epoch 34/50\n",
      " - 234s - loss: 0.0994 - val_loss: 0.0826\n",
      "Epoch 35/50\n",
      " - 234s - loss: 0.0994 - val_loss: 0.0826\n",
      "Epoch 36/50\n",
      " - 234s - loss: 0.0994 - val_loss: 0.0826\n",
      "Epoch 37/50\n",
      " - 235s - loss: 0.0994 - val_loss: 0.0826\n",
      "Epoch 38/50\n",
      " - 234s - loss: 0.0994 - val_loss: 0.0826\n",
      "Epoch 39/50\n",
      " - 234s - loss: 0.0994 - val_loss: 0.0826\n",
      "Epoch 40/50\n",
      " - 235s - loss: 0.0994 - val_loss: 0.0826\n",
      "Epoch 41/50\n",
      " - 234s - loss: 0.0994 - val_loss: 0.0826\n",
      "Epoch 42/50\n",
      " - 233s - loss: 0.0994 - val_loss: 0.0826\n",
      "Epoch 43/50\n",
      " - 233s - loss: 0.0994 - val_loss: 0.0826\n",
      "Epoch 44/50\n",
      " - 233s - loss: 0.0994 - val_loss: 0.0826\n",
      "Epoch 45/50\n",
      " - 235s - loss: 0.0994 - val_loss: 0.0826\n",
      "Epoch 46/50\n",
      " - 233s - loss: 0.0994 - val_loss: 0.0826\n",
      "Epoch 47/50\n",
      " - 235s - loss: 0.0994 - val_loss: 0.0826\n",
      "Epoch 48/50\n",
      " - 233s - loss: 0.0994 - val_loss: 0.0826\n",
      "Epoch 49/50\n",
      " - 233s - loss: 0.0994 - val_loss: 0.0826\n",
      "Epoch 50/50\n",
      " - 234s - loss: 0.0994 - val_loss: 0.0826\n"
     ]
    },
    {
     "data": {
      "image/png": "[encoded data removed]",
      "text/plain": [
       "<Figure size 2160x1080 with 1 Axes>"
      ]
     },
     "metadata": {
      "needs_background": "light"
     },
     "output_type": "display_data"
    }
   ],
   "source": [
    "history = regressor.fit(X_train, y_train, epochs=50, batch_size=1024, validation_data=(X_valid, y_valid),\n",
    "                        verbose=2, shuffle=False)\n",
    "# plot history\n",
    "\n",
    "plt.figure(figsize=(30, 15))\n",
    "plt.plot(history.history['loss'], label='Training')\n",
    "plt.plot(history.history['val_loss'], label='Validation')\n",
    "plt.xlabel('Epochs')\n",
    "plt.ylabel('Loss')\n",
    "plt.legend()\n",
    "plt.show()"
   ]
  },
  {
   "cell_type": "code",
   "execution_count": 17,
   "metadata": {
    "scrolled": true
   },
   "outputs": [
    {
     "data": {
      "text/plain": [
       "46"
      ]
     },
     "execution_count": 17,
     "metadata": {},
     "output_type": "execute_result"
    }
   ],
   "source": [
    "600 - 554"
   ]
  },
  {
   "cell_type": "code",
   "execution_count": 18,
   "metadata": {
    "scrolled": true
   },
   "outputs": [],
   "source": [
    "# Transform back and plot\n",
    "y_train_origin = y[:train_size-46]\n",
    "y_valid_origin = y[train_size:train_size+valid_size]\n",
    "\n",
    "y_train_pred = regressor.predict(X_train)\n",
    "y_train_pred_origin = sc_y.inverse_transform(y_train_pred)\n",
    "\n",
    "y_valid_pred = regressor.predict(X_valid)\n",
    "y_valid_pred_origin = sc_y.inverse_transform(y_valid_pred)\n",
    "\n",
    "_y_train_pred_origin = y_train_pred_origin[:, 0:1]\n",
    "_y_valid_pred_origin = y_valid_pred_origin[:, 0:1]\n",
    "\n",
    "\n"
   ]
  },
  {
   "cell_type": "code",
   "execution_count": 22,
   "metadata": {},
   "outputs": [
    {
     "data": {
      "text/plain": [
       "[<matplotlib.lines.Line2D at 0x13e0be128>,\n",
       " <matplotlib.lines.Line2D at 0x13e0be278>,\n",
       " <matplotlib.lines.Line2D at 0x13e0be3c8>,\n",
       " <matplotlib.lines.Line2D at 0x13e0be518>,\n",
       " <matplotlib.lines.Line2D at 0x13e0be668>,\n",
       " <matplotlib.lines.Line2D at 0x13e0be7b8>,\n",
       " <matplotlib.lines.Line2D at 0x13e0be908>,\n",
       " <matplotlib.lines.Line2D at 0x13e0bea58>,\n",
       " <matplotlib.lines.Line2D at 0x13e0beba8>,\n",
       " <matplotlib.lines.Line2D at 0x13e0becf8>,\n",
       " <matplotlib.lines.Line2D at 0x13c8a6dd8>,\n",
       " <matplotlib.lines.Line2D at 0x13e0bef60>,\n",
       " <matplotlib.lines.Line2D at 0x13e0c40f0>,\n",
       " <matplotlib.lines.Line2D at 0x13e0c4240>,\n",
       " <matplotlib.lines.Line2D at 0x13e0c4390>,\n",
       " <matplotlib.lines.Line2D at 0x13e0c44e0>,\n",
       " <matplotlib.lines.Line2D at 0x13e0c4630>,\n",
       " <matplotlib.lines.Line2D at 0x13e0c4780>,\n",
       " <matplotlib.lines.Line2D at 0x13e0c48d0>,\n",
       " <matplotlib.lines.Line2D at 0x13e0c4a20>,\n",
       " <matplotlib.lines.Line2D at 0x13e0c4b70>,\n",
       " <matplotlib.lines.Line2D at 0x13e0c4cc0>,\n",
       " <matplotlib.lines.Line2D at 0x13e0c4e10>,\n",
       " <matplotlib.lines.Line2D at 0x13e0c4f60>]"
      ]
     },
     "execution_count": 22,
     "metadata": {},
     "output_type": "execute_result"
    },
    {
     "data": {
      "image/png": "[encoded data removed]",
      "text/plain": [
       "<Figure size 432x288 with 1 Axes>"
      ]
     },
     "metadata": {
      "needs_background": "light"
     },
     "output_type": "display_data"
    }
   ],
   "source": [
    "plt.plot(y_train_pred_origin)"
   ]
  },
  {
   "cell_type": "code",
   "execution_count": 20,
   "metadata": {
    "scrolled": true
   },
   "outputs": [
    {
     "data": {
      "image/png": "[encoded data removed]",
      "text/plain": [
       "<Figure size 2160x1080 with 1 Axes>"
      ]
     },
     "metadata": {
      "needs_background": "light"
     },
     "output_type": "display_data"
    }
   ],
   "source": [
    "plot_predictions(y_valid_pred[:,0:1], y_valid_pred[:,0:1])\n"
   ]
  },
  {
   "cell_type": "code",
   "execution_count": null,
   "metadata": {
    "scrolled": true
   },
   "outputs": [],
   "source": []
  },
  {
   "cell_type": "code",
   "execution_count": null,
   "metadata": {
    "scrolled": true
   },
   "outputs": [],
   "source": []
  },
  {
   "cell_type": "code",
   "execution_count": null,
   "metadata": {
    "scrolled": true
   },
   "outputs": [],
   "source": []
  }
 ],
 "metadata": {
  "kernelspec": {
   "display_name": "popeye",
   "language": "python",
   "name": "popeye"
  },
  "language_info": {
   "codemirror_mode": {
    "name": "ipython",
    "version": 3
   },
   "file_extension": ".py",
   "mimetype": "text/x-python",
   "name": "python",
   "nbconvert_exporter": "python",
   "pygments_lexer": "ipython3",
   "version": "3.6.8"
  }
 },
 "nbformat": 4,
 "nbformat_minor": 1
}
