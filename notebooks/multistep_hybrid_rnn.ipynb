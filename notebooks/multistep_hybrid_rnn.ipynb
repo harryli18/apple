{
 "cells": [
  {
   "cell_type": "code",
   "execution_count": null,
   "metadata": {
    "_uuid": "da0236e4b36ce514c1fec3fd72f236d1fa259131",
    "scrolled": true
   },
   "outputs": [],
   "source": [
    "# Importing useful libraries\n",
    "from \n",
    "import numpy as np\n",
    "import matplotlib.pyplot as plt\n",
    "import pandas as pd\n",
    "from sklearn.preprocessing import MinMaxScaler\n",
    "from keras.models import Sequential\n",
    "from keras.layers import Dense, LSTM, Dropout, GRU, Bidirectional, Conv1D, Flatten, MaxPooling1D\n",
    "from keras.optimizers import SGD\n",
    "import math\n",
    "from sklearn.metrics import mean_squared_error\n",
    "from sklearn.model_selection import train_test_split\n",
    "from keras import optimizers\n",
    "\n",
    "import time "
   ]
  },
  {
   "cell_type": "code",
   "execution_count": 1,
   "metadata": {},
   "outputs": [
    {
     "data": {
      "text/plain": [
       "'2.1.0'"
      ]
     },
     "execution_count": 1,
     "metadata": {},
     "output_type": "execute_result"
    }
   ],
   "source": [
    "import tensorflow as tf\n",
    "from tensorflow.keras.layers import Dense, LSTM, Dropout, GRU, Bidirectional, Conv1D, Flatten, MaxPooling1D "
   ]
  },
  {
   "cell_type": "code",
   "execution_count": 2,
   "metadata": {},
   "outputs": [],
   "source": []
  },
  {
   "cell_type": "markdown",
   "metadata": {},
   "source": [
    "### Data Processing"
   ]
  },
  {
   "cell_type": "code",
   "execution_count": null,
   "metadata": {
    "scrolled": true
   },
   "outputs": [],
   "source": [
    "df = pd.read_csv('../data/num_data.csv')"
   ]
  },
  {
   "cell_type": "code",
   "execution_count": null,
   "metadata": {},
   "outputs": [],
   "source": []
  },
  {
   "cell_type": "code",
   "execution_count": null,
   "metadata": {
    "scrolled": true
   },
   "outputs": [],
   "source": [
    "dataset = df[:1000]"
   ]
  },
  {
   "cell_type": "code",
   "execution_count": null,
   "metadata": {},
   "outputs": [],
   "source": [
    "dataset.shape"
   ]
  },
  {
   "cell_type": "code",
   "execution_count": null,
   "metadata": {
    "_uuid": "b288a8e2caf6196daec9cd2bc4ca78fe50345845",
    "scrolled": true
   },
   "outputs": [],
   "source": [
    "# Useful functions\n",
    "def plot_predictions(test, predicted):\n",
    "    plt.figure(figsize=(30, 15));\n",
    "\n",
    "    plt.plot(test, color='red', alpha=0.5, label='Actual PM2.5 Concentration',)\n",
    "    plt.plot(predicted, color='blue', alpha=0.5, label='Predicted PM2.5 Concentation')\n",
    "    plt.title('PM2.5 Concentration Prediction')\n",
    "    plt.xlabel('Time')\n",
    "    plt.ylabel('PM2.5  Concentration')\n",
    "    plt.legend()\n",
    "    plt.show()\n",
    "    \n",
    "\n",
    "def return_rmse(test,predicted):\n",
    "    rmse = math.sqrt(mean_squared_error(test, predicted))\n",
    "    return rmse"
   ]
  },
  {
   "cell_type": "code",
   "execution_count": null,
   "metadata": {},
   "outputs": [],
   "source": []
  },
  {
   "cell_type": "code",
   "execution_count": null,
   "metadata": {
    "scrolled": true
   },
   "outputs": [],
   "source": [
    "data_size = dataset.shape[0]\n",
    "train_size=int(data_size * 0.6)\n",
    "test_size = 100\n",
    "valid_size = data_size - train_size - test_size\n",
    "\n",
    "test_next_day = [12, 24, 48]"
   ]
  },
  {
   "cell_type": "code",
   "execution_count": null,
   "metadata": {
    "_uuid": "fb4c9db6d8a5bcf20ffad41747cfa5b6215ba220",
    "scrolled": true
   },
   "outputs": [],
   "source": [
    "training_set = dataset[:train_size].iloc[:,4:16].values\n",
    "valid_set = dataset[train_size:train_size+valid_size].iloc[:,4:16].values\n",
    "test_set = dataset[data_size-test_size:].iloc[:,4:16].values"
   ]
  },
  {
   "cell_type": "code",
   "execution_count": null,
   "metadata": {},
   "outputs": [],
   "source": [
    "y = dataset.iloc[:,4].values\n",
    "y = y.reshape(-1,1)\n",
    "\n",
    "y.shape"
   ]
  },
  {
   "cell_type": "code",
   "execution_count": null,
   "metadata": {
    "_uuid": "bcc9c36165fc07d258bd5ea87874d2da17fa4a4d",
    "scrolled": true
   },
   "outputs": [],
   "source": [
    "# Scaling the dataset\n",
    "sc = MinMaxScaler(feature_range=(0,1))\n",
    "training_set_scaled = sc.fit_transform(training_set)\n",
    "valid_set_scaled = sc.fit_transform(valid_set)\n",
    "test_set_scaled = sc.fit_transform(test_set)\n",
    "\n",
    "sc_y = MinMaxScaler(feature_range=(0,1))\n",
    "y_scaled = sc_y.fit_transform(y)"
   ]
  },
  {
   "cell_type": "code",
   "execution_count": null,
   "metadata": {},
   "outputs": [],
   "source": [
    "# split a multivariate sequence into samples\n",
    "def split_sequences(sequences, n_steps_in, n_steps_out):\n",
    "    X_, y_ = list(), list()\n",
    "    for i in range(len(sequences)):\n",
    "        # find the end of this pattern\n",
    "        end_ix = i + n_steps_in\n",
    "        out_end_ix = end_ix + n_steps_out-1\n",
    "        # check if we are beyond the dataset\n",
    "        if out_end_ix > len(sequences):\n",
    "            break\n",
    "        # gather input and output parts of the pattern\n",
    "        seq_x, seq_y = sequences[i:end_ix, :], sequences[end_ix-1:out_end_ix, 0]\n",
    "        X_.append(seq_x)\n",
    "        y_.append(seq_y)\n",
    "    return np.array(X_), np.array(y_)"
   ]
  },
  {
   "cell_type": "code",
   "execution_count": null,
   "metadata": {},
   "outputs": [],
   "source": [
    "n_steps_in = 24\n",
    "n_steps_out = 24\n",
    "X_train, y_train = split_sequences(training_set_scaled, n_steps_in, n_steps_out)\n",
    "X_valid, y_valid = split_sequences(valid_set_scaled, n_steps_in, n_steps_out)\n",
    "X_test, y_test = split_sequences(test_set_scaled, n_steps_in, n_steps_out)"
   ]
  },
  {
   "cell_type": "code",
   "execution_count": null,
   "metadata": {},
   "outputs": [],
   "source": []
  },
  {
   "cell_type": "code",
   "execution_count": null,
   "metadata": {
    "scrolled": true
   },
   "outputs": [],
   "source": [
    "GRU_reg = Sequential()\n",
    "LSTM_reg = Sequential()\n",
    "GRU_GRU_reg =  Sequential()\n",
    "GRU_LSTM_reg = Sequential()\n",
    "LSTM_GRU_reg = Sequential()\n",
    "LSTM_LSTM_reg = Sequential()\n",
    "\n",
    "\n",
    "GRU_reg.add(GRU(units=50, input_shape=(X_train.shape[1],12), activation='tanh'))\n",
    "# The output layer\n",
    "GRU_reg.add(Dense(units=n_steps_out))\n",
    "\n",
    "\n",
    "LSTM_reg.add(LSTM(units=50, input_shape=(X_train.shape[1],12), activation='tanh'))\n",
    "LSTM_reg.add(Dense(units=n_steps_out))\n",
    "\n",
    "\n",
    "GRU_GRU_reg.add(GRU(units=50, return_sequences=True, input_shape=(X_train.shape[1],12), activation='tanh'))\n",
    "GRU_GRU_reg.add(GRU(units=50, activation='tanh'))\n",
    "GRU_GRU_reg.add(Dense(units=n_steps_out))\n",
    "\n",
    "\n",
    "LSTM_LSTM_reg.add(LSTM(units=50, return_sequences=True, input_shape=(X_train.shape[1],12), activation='tanh'))\n",
    "LSTM_LSTM_reg.add(LSTM(units=50, activation='tanh'))\n",
    "LSTM_LSTM_reg.add(Dense(units=n_steps_out))\n",
    "\n",
    "\n",
    "LSTM_GRU_reg.add(LSTM(units=50, return_sequences=True, input_shape=(X_train.shape[1],12), activation='tanh'))\n",
    "LSTM_GRU_reg.add(GRU(units=50, activation='tanh'))\n",
    "LSTM_GRU_reg.add(Dense(units=n_steps_out))\n",
    "\n",
    "\n",
    "GRU_LSTM_reg.add(GRU(units=50, return_sequences=True, input_shape=(X_train.shape[1],12), activation='tanh'))\n",
    "GRU_LSTM_reg.add(LSTM(units=50, activation='tanh'))\n",
    "GRU_LSTM_reg.add(Dense(units=n_steps_out))\n",
    "\n",
    "\n",
    "# Compiling the RNNs\n",
    "adam = optimizers.Adam(lr=0.01)\n",
    "\n",
    "GRU_reg.compile(optimizer=adam,loss='mean_squared_error')\n",
    "LSTM_reg.compile(optimizer=adam,loss='mean_squared_error')\n",
    "GRU_GRU_reg.compile(optimizer=adam,loss='mean_squared_error')\n",
    "LSTM_LSTM_reg.compile(optimizer=adam,loss='mean_squared_error')\n",
    "LSTM_GRU_reg.compile(optimizer=adam,loss='mean_squared_error')\n",
    "GRU_LSTM_reg.compile(optimizer=adam,loss='mean_squared_error')"
   ]
  },
  {
   "cell_type": "code",
   "execution_count": null,
   "metadata": {},
   "outputs": [],
   "source": [
    "DFS = Sequential()\n",
    "CBGRU = Sequential()\n",
    "\n",
    "DFS_GRU = Sequential()\n",
    "CBLSTM = Sequential()\n",
    "\n",
    "DFS_2LSTM = Sequential()\n",
    "CB_2GRU = Sequential()\n",
    "\n",
    "\n",
    "# filters defines how many features will be captured\n",
    "# kernel size gives the size of the sliding window\n",
    "DFS.add(Conv1D(filters=64, kernel_size=6, activation='tanh', input_shape=(X_train.shape[1],12)))\n",
    "DFS.add(MaxPooling1D(pool_size=4))\n",
    "DFS.add(Dropout(0.2))  \n",
    "DFS.add(LSTM(units=50, return_sequences=False, input_shape=(X_train.shape[1],12), activation='tanh'))\n",
    "DFS.add(Dropout(0.190 + 0.0025 * n_steps_in))\n",
    "DFS.add(Dense(units=n_steps_out))\n",
    "\n",
    "CBGRU.add(Conv1D(filters=64, kernel_size=6, activation='tanh', input_shape=(X_train.shape[1],12)))\n",
    "CBGRU.add(MaxPooling1D(pool_size=4))\n",
    "CBGRU.add(Dropout(0.2))  \n",
    "CBGRU.add(Bidirectional(GRU(units=50, return_sequences=False, input_shape=(X_train.shape[1],12), activation='tanh')))\n",
    "CBGRU.add(Dense(units=n_steps_out))\n",
    "\n",
    "\n",
    "DFS_GRU.add(Conv1D(filters=64, kernel_size=6, activation='tanh', input_shape=(X_train.shape[1],12)))\n",
    "DFS_GRU.add(MaxPooling1D(pool_size=4))\n",
    "DFS_GRU.add(Dropout(0.2))  \n",
    "DFS_GRU.add(GRU(units=50, return_sequences=False, input_shape=(X_train.shape[1],12), activation='tanh'))\n",
    "DFS_GRU.add(Dropout(0.190 + 0.0025 * n_steps_in))\n",
    "DFS_GRU.add(Dense(units=n_steps_out))\n",
    "\n",
    "CBLSTM.add(Conv1D(filters=64, kernel_size=6, activation='tanh', input_shape=(X_train.shape[1],12)))\n",
    "CBLSTM.add(MaxPooling1D(pool_size=4))\n",
    "CBLSTM.add(Dropout(0.2))  \n",
    "CBLSTM.add(Bidirectional(LSTM(units=50, return_sequences=False, input_shape=(X_train.shape[1],12), activation='tanh')))\n",
    "CBLSTM.add(Dense(units=n_steps_out))\n",
    "\n",
    "\n",
    "DFS_2LSTM.add(Conv1D(filters=64, kernel_size=6, activation='tanh', input_shape=(X_train.shape[1],12)))\n",
    "DFS_2LSTM.add(MaxPooling1D(pool_size=4))\n",
    "DFS_2LSTM.add(Dropout(0.2))  \n",
    "DFS_2LSTM.add(LSTM(units=50, return_sequences=True, input_shape=(X_train.shape[1],12), activation='tanh'))\n",
    "DFS_2LSTM.add(LSTM(units=50,  activation='tanh'))\n",
    "DFS_2LSTM.add(Dropout(0.190 + 0.0025 * n_steps_in))\n",
    "DFS_2LSTM.add(Dense(units=n_steps_out))\n",
    "\n",
    "CB_2GRU.add(Conv1D(filters=64, kernel_size=6, activation='tanh', input_shape=(X_train.shape[1],12)))\n",
    "CB_2GRU.add(MaxPooling1D(pool_size=4))\n",
    "CB_2GRU.add(Dropout(0.2))  \n",
    "CB_2GRU.add(Bidirectional(GRU(units=50, return_sequences=True, input_shape=(X_train.shape[1],12), activation='tanh')))\n",
    "CB_2GRU.add(Bidirectional(GRU(units=50, activation='tanh')))\n",
    "CB_2GRU.add(Dense(units=n_steps_out))\n",
    "\n",
    "\n",
    "\n",
    "# Compiling the RNNs\n",
    "adam = optimizers.Adam(lr=0.01)\n",
    "\n",
    "DFS.compile(optimizer=adam,loss='mean_squared_error')\n",
    "CBGRU.compile(optimizer=adam,loss='mean_squared_error')\n",
    "DFS_2LSTM.compile(optimizer=adam,loss='mean_squared_error')\n",
    "CBLSTM.compile(optimizer=adam,loss='mean_squared_error')\n",
    "DFS_GRU.compile(optimizer=adam,loss='mean_squared_error')\n",
    "CB_2GRU.compile(optimizer=adam,loss='mean_squared_error')"
   ]
  },
  {
   "cell_type": "code",
   "execution_count": null,
   "metadata": {},
   "outputs": [],
   "source": [
    "RnnModelDict = {'LSTM': LSTM_reg, 'GRU': GRU_reg, 'LSTM_LSTM': LSTM_LSTM_reg, 'GRU_GRU': GRU_GRU_reg, \n",
    "                'LSTM_GRU': LSTM_GRU_reg, 'GRU_LSTM': GRU_LSTM_reg, 'DFS': DFS, 'CBGRU': CBGRU,\n",
    "                'DFS_GRU': DFS_GRU, 'DFS_2LSTM': DFS_2LSTM, 'CB_2GRU': CB_2GRU, 'CBLSTM': CBLSTM}\n",
    "\n",
    "X_test_24 = X_test[:24]\n",
    "y_test_24 = y_test[:24]\n",
    "rmse_df = pd.DataFrame(columns=['Model', 'train_rmse', 'valid_rmse', '24h_pred_rmse', 'train_time', ])\n",
    "\n",
    "RnnModelDict = {'LSTM_GRU': LSTM_GRU_reg}"
   ]
  },
  {
   "cell_type": "code",
   "execution_count": null,
   "metadata": {},
   "outputs": [],
   "source": [
    "for model in RnnModelDict:\n",
    "    regressor = RnnModelDict[model]\n",
    "    \n",
    "    print('training start for', model)    \n",
    "    start = time.process_time()\n",
    "    regressor.fit(X_train,y_train,epochs=2,batch_size=32)\n",
    "    train_time = round(time.process_time() - start, 2)\n",
    "    \n",
    "    print('results for training set')\n",
    "    y_train_pred = regressor.predict(X_train)\n",
    "    plot_predictions(y_train,y_train_pred)\n",
    "    train_rmse = return_rmse(y_train,y_train_pred)\n",
    "    \n",
    "    print('results for valid set')\n",
    "    y_valid_pred = regressor.predict(X_valid)\n",
    "    plot_predictions(y_valid,y_valid_pred)\n",
    "    valid_rmse = return_rmse(y_valid,y_valid_pred)\n",
    "    \n",
    "    \n",
    "    print('results for test set - 24 hours')\n",
    "    y_test_pred24 = regressor.predict(X_test_24)\n",
    "    plot_predictions(y_test_24,y_test_pred24)\n",
    "    test24_rmse = return_rmse(y_test_24,y_test_pred24)\n",
    "    \n",
    "    \n",
    "    one_df = pd.DataFrame([[model, train_rmse, valid_rmse, test24_rmse, train_time]], \n",
    "                          columns=['Model', 'train_rmse', 'valid_rmse', '24h_pred_rmse', 'train_time'])\n",
    "    rmse_df = pd.concat([rmse_df, one_df])\n",
    "\n",
    "# save the rmse results \n",
    "rmse_df.to_csv('../rmse_result_all_v1.csv')\n"
   ]
  },
  {
   "cell_type": "code",
   "execution_count": null,
   "metadata": {},
   "outputs": [],
   "source": []
  },
  {
   "cell_type": "code",
   "execution_count": null,
   "metadata": {},
   "outputs": [],
   "source": [
    "history = regressor.fit(X_train, y_train, epochs=500, batch_size=32, validation_data=(X_valid, y_valid),\n",
    "                        verbose=2, shuffle=False)\n",
    "# plot history\n",
    "plt.plot(history.history['loss'], label='train')\n",
    "plt.plot(history.history['val_loss'], label='valid')\n",
    "plt.legend()\n",
    "plt.show()"
   ]
  },
  {
   "cell_type": "code",
   "execution_count": null,
   "metadata": {},
   "outputs": [],
   "source": []
  },
  {
   "cell_type": "code",
   "execution_count": null,
   "metadata": {},
   "outputs": [],
   "source": [
    "# Transform back and plot\n",
    "y_train_origin = y_train\n",
    "y_train_origin = sc_y.inverse_transform(y_train_origin)\n",
    "\n",
    "y_train_pred = regressor.predict(X_train)\n",
    "y_train_pred_origin = sc_y.inverse_transform(y_train_pred)\n",
    "\n",
    "plot_predictions(y_train_origin,y_train_pred_origin)\n",
    "return_rmse(y_train_origin,y_train_pred_origin)"
   ]
  },
  {
   "cell_type": "code",
   "execution_count": null,
   "metadata": {},
   "outputs": [],
   "source": []
  },
  {
   "cell_type": "code",
   "execution_count": null,
   "metadata": {},
   "outputs": [],
   "source": []
  },
  {
   "cell_type": "code",
   "execution_count": null,
   "metadata": {},
   "outputs": [],
   "source": []
  }
 ],
 "metadata": {
  "kernelspec": {
   "display_name": "popeye",
   "language": "python",
   "name": "popeye"
  },
  "language_info": {
   "codemirror_mode": {
    "name": "ipython",
    "version": 3
   },
   "file_extension": ".py",
   "mimetype": "text/x-python",
   "name": "python",
   "nbconvert_exporter": "python",
   "pygments_lexer": "ipython3",
   "version": "3.6.8"
  }
 },
 "nbformat": 4,
 "nbformat_minor": 1
}
