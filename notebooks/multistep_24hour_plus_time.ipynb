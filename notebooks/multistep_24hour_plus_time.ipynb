{
 "cells": [
  {
   "cell_type": "code",
   "execution_count": 1,
   "metadata": {},
   "outputs": [],
   "source": [
    "import plaidml.keras\n",
    "plaidml.keras.install_backend()\n",
    "import os\n",
    "os.environ[\"KERAS_BACKEND\"] = \"plaidml.keras.backend\""
   ]
  },
  {
   "cell_type": "code",
   "execution_count": 2,
   "metadata": {},
   "outputs": [],
   "source": [
    "# Importing useful libraries\n",
    "import numpy as np\n",
    "import matplotlib.pyplot as plt\n",
    "import pandas as pd\n",
    "from sklearn.preprocessing import MinMaxScaler\n",
    "from keras.models import Sequential\n",
    "from keras.layers import Dense, LSTM, Dropout, GRU, Bidirectional, Conv1D, Flatten, MaxPooling1D\n",
    "from keras.optimizers import SGD\n",
    "import math\n",
    "from sklearn.metrics import mean_squared_error\n",
    "from sklearn.model_selection import train_test_split\n",
    "from keras import optimizers\n",
    "\n",
    "import time "
   ]
  },
  {
   "cell_type": "markdown",
   "metadata": {},
   "source": [
    "### Data Processing"
   ]
  },
  {
   "cell_type": "code",
   "execution_count": 3,
   "metadata": {
    "scrolled": true
   },
   "outputs": [],
   "source": [
    "df = pd.read_csv('../data/num_data.csv')"
   ]
  },
  {
   "cell_type": "code",
   "execution_count": 4,
   "metadata": {
    "scrolled": true
   },
   "outputs": [],
   "source": [
    "dataset = df"
   ]
  },
  {
   "cell_type": "code",
   "execution_count": 5,
   "metadata": {},
   "outputs": [
    {
     "data": {
      "text/plain": [
       "(420768, 16)"
      ]
     },
     "execution_count": 5,
     "metadata": {},
     "output_type": "execute_result"
    }
   ],
   "source": [
    "dataset.shape"
   ]
  },
  {
   "cell_type": "code",
   "execution_count": 11,
   "metadata": {
    "_uuid": "b288a8e2caf6196daec9cd2bc4ca78fe50345845",
    "scrolled": true
   },
   "outputs": [],
   "source": [
    "# Useful functions\n",
    "def plot_predictions(test, predicted):\n",
    "    plt.figure(figsize=(30, 15));\n",
    "\n",
    "    plt.plot(test, color='red', alpha=0.5, label='Actual PM2.5 Concentration',)\n",
    "    plt.plot(predicted, color='blue', alpha=0.5, label='Predicted PM2.5 Concentation')\n",
    "    plt.title('PM2.5 Concentration Prediction')\n",
    "    plt.xlabel('Time')\n",
    "    plt.ylabel('PM2.5  Concentration')\n",
    "    plt.legend()\n",
    "    plt.show()\n",
    "    \n",
    "\n",
    "def return_rmse(test,predicted):\n",
    "    rmse = math.sqrt(mean_squared_error(test, predicted))\n",
    "    return rmse"
   ]
  },
  {
   "cell_type": "code",
   "execution_count": null,
   "metadata": {},
   "outputs": [],
   "source": []
  },
  {
   "cell_type": "code",
   "execution_count": 12,
   "metadata": {
    "scrolled": true
   },
   "outputs": [],
   "source": [
    "data_size = dataset.shape[0]\n",
    "train_size=int(data_size * 0.6)\n",
    "test_size = 100\n",
    "valid_size = data_size - train_size - test_size\n",
    "\n",
    "test_next_day = [12, 24, 48]"
   ]
  },
  {
   "cell_type": "code",
   "execution_count": 13,
   "metadata": {
    "_uuid": "fb4c9db6d8a5bcf20ffad41747cfa5b6215ba220",
    "scrolled": true
   },
   "outputs": [],
   "source": [
    "training_set = dataset[:train_size].values\n",
    "valid_set = dataset[train_size:train_size+valid_size].values\n",
    "test_set = dataset[data_size-test_size:].values"
   ]
  },
  {
   "cell_type": "code",
   "execution_count": 14,
   "metadata": {},
   "outputs": [
    {
     "data": {
      "text/plain": [
       "(420768, 1)"
      ]
     },
     "execution_count": 14,
     "metadata": {},
     "output_type": "execute_result"
    }
   ],
   "source": [
    "y = dataset.iloc[:,4].values\n",
    "y = y.reshape(-1,1)\n",
    "n_feature = training_set.shape[1]\n",
    "y.shape"
   ]
  },
  {
   "cell_type": "code",
   "execution_count": 15,
   "metadata": {},
   "outputs": [
    {
     "data": {
      "text/plain": [
       "16"
      ]
     },
     "execution_count": 15,
     "metadata": {},
     "output_type": "execute_result"
    }
   ],
   "source": [
    "n_feature"
   ]
  },
  {
   "cell_type": "code",
   "execution_count": 16,
   "metadata": {
    "_uuid": "bcc9c36165fc07d258bd5ea87874d2da17fa4a4d",
    "scrolled": true
   },
   "outputs": [],
   "source": [
    "# Scaling the dataset\n",
    "sc = MinMaxScaler(feature_range=(0,1))\n",
    "training_set_scaled = sc.fit_transform(training_set)\n",
    "valid_set_scaled = sc.fit_transform(valid_set)\n",
    "test_set_scaled = sc.fit_transform(test_set)\n",
    "\n",
    "sc_y = MinMaxScaler(feature_range=(0,1))\n",
    "y_scaled = sc_y.fit_transform(y)"
   ]
  },
  {
   "cell_type": "code",
   "execution_count": 17,
   "metadata": {},
   "outputs": [],
   "source": [
    "# split a multivariate sequence into samples\n",
    "def split_sequences(sequences, n_steps_in, n_steps_out):\n",
    "    X_, y_ = list(), list()\n",
    "    for i in range(len(sequences)):\n",
    "        # find the end of this pattern\n",
    "        end_ix = i + n_steps_in\n",
    "        out_end_ix = end_ix + n_steps_out-1\n",
    "        # check if we are beyond the dataset\n",
    "        if out_end_ix > len(sequences):\n",
    "            break\n",
    "        # gather input and output parts of the pattern\n",
    "        seq_x, seq_y = sequences[i:end_ix, :], sequences[end_ix-1:out_end_ix, 0]\n",
    "        X_.append(seq_x)\n",
    "        y_.append(seq_y)\n",
    "    return np.array(X_), np.array(y_)"
   ]
  },
  {
   "cell_type": "code",
   "execution_count": 18,
   "metadata": {},
   "outputs": [],
   "source": [
    "n_steps_in = 24\n",
    "n_steps_out = 24\n",
    "X_train, y_train = split_sequences(training_set_scaled, n_steps_in, n_steps_out)\n",
    "X_valid, y_valid = split_sequences(valid_set_scaled, n_steps_in, n_steps_out)\n",
    "X_test, y_test = split_sequences(test_set_scaled, n_steps_in, n_steps_out)"
   ]
  },
  {
   "cell_type": "code",
   "execution_count": null,
   "metadata": {},
   "outputs": [],
   "source": []
  },
  {
   "cell_type": "code",
   "execution_count": 19,
   "metadata": {
    "scrolled": true
   },
   "outputs": [
    {
     "name": "stderr",
     "output_type": "stream",
     "text": [
      "INFO:plaidml:Opening device \"metal_intel(r)_iris(tm)_graphics_6100.0\"\n"
     ]
    }
   ],
   "source": [
    "GRU_reg = Sequential()\n",
    "LSTM_reg = Sequential()\n",
    "GRU_GRU_reg =  Sequential()\n",
    "GRU_LSTM_reg = Sequential()\n",
    "LSTM_GRU_reg = Sequential()\n",
    "LSTM_LSTM_reg = Sequential()\n",
    "\n",
    "\n",
    "GRU_reg.add(GRU(units=50, input_shape=(X_train.shape[1],n_feature), activation='tanh'))\n",
    "# The output layer\n",
    "GRU_reg.add(Dense(units=n_steps_out))\n",
    "\n",
    "\n",
    "LSTM_reg.add(LSTM(units=50, input_shape=(X_train.shape[1],n_feature), activation='tanh'))\n",
    "LSTM_reg.add(Dense(units=n_steps_out))\n",
    "\n",
    "\n",
    "GRU_GRU_reg.add(GRU(units=50, return_sequences=True, input_shape=(X_train.shape[1],n_feature), activation='tanh'))\n",
    "GRU_GRU_reg.add(GRU(units=50, activation='tanh'))\n",
    "GRU_GRU_reg.add(Dense(units=n_steps_out))\n",
    "\n",
    "\n",
    "LSTM_LSTM_reg.add(LSTM(units=50, return_sequences=True, input_shape=(X_train.shape[1],n_feature), activation='tanh'))\n",
    "LSTM_LSTM_reg.add(LSTM(units=50, activation='tanh'))\n",
    "LSTM_LSTM_reg.add(Dense(units=n_steps_out))\n",
    "\n",
    "\n",
    "LSTM_GRU_reg.add(LSTM(units=50, return_sequences=True, input_shape=(X_train.shape[1],n_feature), activation='tanh'))\n",
    "LSTM_GRU_reg.add(GRU(units=50, activation='tanh'))\n",
    "LSTM_GRU_reg.add(Dense(units=n_steps_out))\n",
    "\n",
    "\n",
    "GRU_LSTM_reg.add(GRU(units=50, return_sequences=True, input_shape=(X_train.shape[1],n_feature), activation='tanh'))\n",
    "GRU_LSTM_reg.add(LSTM(units=50, activation='tanh'))\n",
    "GRU_LSTM_reg.add(Dense(units=n_steps_out))\n",
    "\n",
    "\n",
    "# Compiling the RNNs\n",
    "adam = optimizers.Adam(lr=0.01)\n",
    "\n",
    "GRU_reg.compile(optimizer=adam,loss='mean_squared_error')\n",
    "LSTM_reg.compile(optimizer=adam,loss='mean_squared_error')\n",
    "GRU_GRU_reg.compile(optimizer=adam,loss='mean_squared_error')\n",
    "LSTM_LSTM_reg.compile(optimizer=adam,loss='mean_squared_error')\n",
    "LSTM_GRU_reg.compile(optimizer=adam,loss='mean_squared_error')\n",
    "GRU_LSTM_reg.compile(optimizer=adam,loss='mean_squared_error')"
   ]
  },
  {
   "cell_type": "code",
   "execution_count": 20,
   "metadata": {},
   "outputs": [],
   "source": [
    "RnnModelDict = {'LSTM': LSTM_reg, 'GRU': GRU_reg, 'LSTM_LSTM': LSTM_LSTM_reg, 'GRU_GRU': GRU_GRU_reg, \n",
    "                'LSTM_GRU': LSTM_GRU_reg, 'GRU_LSTM': GRU_LSTM_reg}\n",
    "\n",
    "X_test_24 = X_test[:24]\n",
    "y_test_24 = y_test[:24]\n",
    "rmse_df = pd.DataFrame(columns=['Model', 'train_rmse', 'valid_rmse', 'train_time'])\n",
    "\n",
    "# RnnModelDict = {'LSTM_GRU': LSTM_GRU_reg}"
   ]
  },
  {
   "cell_type": "code",
   "execution_count": null,
   "metadata": {},
   "outputs": [
    {
     "name": "stdout",
     "output_type": "stream",
     "text": [
      "training start for LSTM\n",
      "Epoch 1/50\n"
     ]
    },
    {
     "name": "stderr",
     "output_type": "stream",
     "text": [
      "INFO:plaidml:Analyzing Ops: 2022 of 2298 operations complete\n"
     ]
    },
    {
     "name": "stdout",
     "output_type": "stream",
     "text": [
      "252384/252414 [============================>.] - ETA: 0s - loss: 6.8974e-04"
     ]
    },
    {
     "name": "stderr",
     "output_type": "stream",
     "text": [
      "INFO:plaidml:Analyzing Ops: 1789 of 2299 operations complete\n"
     ]
    },
    {
     "name": "stdout",
     "output_type": "stream",
     "text": [
      "252414/252414 [==============================] - 760s 3ms/step - loss: 6.8966e-04\n",
      "Epoch 2/50\n",
      "252414/252414 [==============================] - 828s 3ms/step - loss: 4.5206e-04\n",
      "Epoch 3/50\n",
      "252414/252414 [==============================] - 830s 3ms/step - loss: 3.4803e-04\n",
      "Epoch 4/50\n",
      "252414/252414 [==============================] - 832s 3ms/step - loss: 2.2967e-04\n",
      "Epoch 5/50\n",
      "252414/252414 [==============================] - 832s 3ms/step - loss: 2.2710e-04 1s - loss: 2.250 - ETA: 1s - loss:\n",
      "Epoch 6/50\n",
      "252414/252414 [==============================] - 831s 3ms/step - loss: 2.1688e-04 0s - loss: 2.17\n",
      "Epoch 7/50\n",
      "252414/252414 [==============================] - 837s 3ms/step - loss: 2.0826e-04\n",
      "Epoch 8/50\n",
      "252414/252414 [==============================] - 832s 3ms/step - loss: 1.7143e-04\n",
      "Epoch 9/50\n",
      "252414/252414 [==============================] - 833s 3ms/step - loss: 1.9357e-04\n",
      "Epoch 10/50\n",
      "252414/252414 [==============================] - 834s 3ms/step - loss: 1.9951e-04\n",
      "Epoch 11/50\n",
      "252414/252414 [==============================] - 832s 3ms/step - loss: 1.5338e-04\n",
      "Epoch 12/50\n",
      "252414/252414 [==============================] - 834s 3ms/step - loss: 1.3861e-04\n",
      "Epoch 13/50\n",
      "252414/252414 [==============================] - 834s 3ms/step - loss: 1.7365e-04\n",
      "Epoch 14/50\n",
      "252414/252414 [==============================] - 835s 3ms/step - loss: 1.4000e-04\n",
      "Epoch 15/50\n",
      "252414/252414 [==============================] - 748s 3ms/step - loss: 1.4049e-04\n",
      "Epoch 16/50\n",
      "252414/252414 [==============================] - 728s 3ms/step - loss: 0.0026\n",
      "Epoch 17/50\n",
      "252414/252414 [==============================] - 820s 3ms/step - loss: 0.0205\n",
      "Epoch 18/50\n",
      "252414/252414 [==============================] - 819s 3ms/step - loss: 0.0042\n",
      "Epoch 19/50\n",
      "252414/252414 [==============================] - 820s 3ms/step - loss: 0.0082\n",
      "Epoch 20/50\n",
      "252414/252414 [==============================] - 822s 3ms/step - loss: 0.0016\n",
      "Epoch 21/50\n",
      "252414/252414 [==============================] - 819s 3ms/step - loss: 5.0794e-04\n",
      "Epoch 22/50\n",
      "252414/252414 [==============================] - 820s 3ms/step - loss: 4.0741e-04\n",
      "Epoch 23/50\n",
      "252414/252414 [==============================] - 820s 3ms/step - loss: 3.5375e-04\n",
      "Epoch 24/50\n",
      "252414/252414 [==============================] - 820s 3ms/step - loss: 2.7573e-04\n",
      "Epoch 25/50\n",
      "252414/252414 [==============================] - 820s 3ms/step - loss: 2.4965e-04\n",
      "Epoch 26/50\n",
      "252414/252414 [==============================] - 821s 3ms/step - loss: 2.7873e-04\n",
      "Epoch 27/50\n",
      "252414/252414 [==============================] - 820s 3ms/step - loss: 2.4820e-04\n",
      "Epoch 28/50\n",
      "252414/252414 [==============================] - 821s 3ms/step - loss: 2.8482e-04\n",
      "Epoch 29/50\n",
      "252414/252414 [==============================] - 822s 3ms/step - loss: 4.2358e-04\n",
      "Epoch 30/50\n",
      "252414/252414 [==============================] - 635s 3ms/step - loss: 3.0151e-04\n",
      "Epoch 31/50\n",
      "252414/252414 [==============================] - 793s 3ms/step - loss: 3.5446e-04\n",
      "Epoch 32/50\n",
      "252414/252414 [==============================] - 811s 3ms/step - loss: 3.1258e-04\n",
      "Epoch 33/50\n",
      "252414/252414 [==============================] - 814s 3ms/step - loss: 3.3399e-04 1s - loss: 3. - ETA: 0s - loss: 3.34\n",
      "Epoch 34/50\n",
      "252414/252414 [==============================] - 813s 3ms/step - loss: 4.4358e-04\n",
      "Epoch 35/50\n",
      "252414/252414 [==============================] - 813s 3ms/step - loss: 2.6694e-04\n",
      "Epoch 36/50\n",
      "252414/252414 [==============================] - 814s 3ms/step - loss: 3.0419e-04\n",
      "Epoch 37/50\n",
      "252414/252414 [==============================] - 815s 3ms/step - loss: 2.7663e-04\n",
      "Epoch 38/50\n",
      "252414/252414 [==============================] - 814s 3ms/step - loss: 1.9877e-04\n",
      "Epoch 39/50\n",
      "252414/252414 [==============================] - 813s 3ms/step - loss: 3.1236e-04\n",
      "Epoch 40/50\n",
      "252414/252414 [==============================] - 813s 3ms/step - loss: 4.0743e-04\n",
      "Epoch 41/50\n",
      "252414/252414 [==============================] - 815s 3ms/step - loss: 3.9770e-04 0s - loss: 3.9774\n",
      "Epoch 42/50\n",
      "252414/252414 [==============================] - 814s 3ms/step - loss: 1.9909e-04\n",
      "Epoch 43/50\n",
      "252414/252414 [==============================] - 813s 3ms/step - loss: 2.8086e-04\n",
      "Epoch 44/50\n",
      "252414/252414 [==============================] - 812s 3ms/step - loss: 3.7728e-04\n",
      "Epoch 45/50\n",
      "252414/252414 [==============================] - 606s 2ms/step - loss: 2.6750e-04\n",
      "Epoch 46/50\n",
      "252414/252414 [==============================] - 781s 3ms/step - loss: 3.4980e-04\n",
      "Epoch 47/50\n",
      "252414/252414 [==============================] - 813s 3ms/step - loss: 2.5196e-04\n",
      "Epoch 48/50\n",
      "252414/252414 [==============================] - 826s 3ms/step - loss: 4.0693e-04\n",
      "Epoch 49/50\n",
      "206144/252414 [=======================>......] - ETA: 2:31 - loss: 1.9809e-04"
     ]
    }
   ],
   "source": [
    "for model in RnnModelDict:\n",
    "    regressor = RnnModelDict[model]\n",
    "    \n",
    "    print('training start for', model)    \n",
    "    start = time.process_time()\n",
    "    regressor.fit(X_train,y_train,epochs=50,batch_size=32)\n",
    "    train_time = round(time.process_time() - start, 2)\n",
    "    \n",
    "    print('results for training set')\n",
    "    y_train_pred = regressor.predict(X_train)\n",
    "#     plot_predictions(y_train,y_train_pred)\n",
    "    train_rmse = return_rmse(y_train,y_train_pred)\n",
    "    \n",
    "    print('results for valid set')\n",
    "    y_valid_pred = regressor.predict(X_valid)\n",
    "#     plot_predictions(y_valid,y_valid_pred)\n",
    "    valid_rmse = return_rmse(y_valid,y_valid_pred)\n",
    "    \n",
    "    \n",
    "#     print('results for test set - 24 hours')\n",
    "#     y_test_pred24 = regressor.predict(X_test_24)\n",
    "#     plot_predictions(y_test_24,y_test_pred24)\n",
    "#     test24_rmse = return_rmse(y_test_24,y_test_pred24)\n",
    "    \n",
    "    \n",
    "    one_df = pd.DataFrame([[model, train_rmse, valid_rmse, train_time]], \n",
    "                          columns=['Model', 'train_rmse', 'valid_rmse', 'train_time'])\n",
    "    rmse_df = pd.concat([rmse_df, one_df])\n",
    "\n",
    "# save the rmse results \n",
    "rmse_df.to_csv('../rmse_24h_plus_time.csv')\n"
   ]
  },
  {
   "cell_type": "code",
   "execution_count": null,
   "metadata": {},
   "outputs": [],
   "source": []
  },
  {
   "cell_type": "code",
   "execution_count": null,
   "metadata": {},
   "outputs": [],
   "source": [
    "# history = regressor.fit(X_train, y_train, epochs=500, batch_size=32, validation_data=(X_valid, y_valid),\n",
    "#                         verbose=2, shuffle=False)\n",
    "# # plot history\n",
    "# plt.plot(history.history['loss'], label='train')\n",
    "# plt.plot(history.history['val_loss'], label='valid')\n",
    "# plt.legend()\n",
    "# plt.show()"
   ]
  },
  {
   "cell_type": "code",
   "execution_count": null,
   "metadata": {},
   "outputs": [],
   "source": []
  },
  {
   "cell_type": "code",
   "execution_count": null,
   "metadata": {},
   "outputs": [],
   "source": [
    "# # Transform back and plot\n",
    "# y_train_origin = y_train\n",
    "# y_train_origin = sc_y.inverse_transform(y_train_origin)\n",
    "\n",
    "# y_train_pred = regressor.predict(X_train)\n",
    "# y_train_pred_origin = sc_y.inverse_transform(y_train_pred)\n",
    "\n",
    "# plot_predictions(y_train_origin,y_train_pred_origin)\n",
    "# return_rmse(y_train_origin,y_train_pred_origin)"
   ]
  },
  {
   "cell_type": "code",
   "execution_count": null,
   "metadata": {},
   "outputs": [],
   "source": []
  },
  {
   "cell_type": "code",
   "execution_count": null,
   "metadata": {},
   "outputs": [],
   "source": []
  },
  {
   "cell_type": "code",
   "execution_count": null,
   "metadata": {},
   "outputs": [],
   "source": []
  }
 ],
 "metadata": {
  "kernelspec": {
   "display_name": "apple",
   "language": "python",
   "name": "myenv"
  },
  "language_info": {
   "codemirror_mode": {
    "name": "ipython",
    "version": 3
   },
   "file_extension": ".py",
   "mimetype": "text/x-python",
   "name": "python",
   "nbconvert_exporter": "python",
   "pygments_lexer": "ipython3",
   "version": "3.6.3"
  }
 },
 "nbformat": 4,
 "nbformat_minor": 1
}
